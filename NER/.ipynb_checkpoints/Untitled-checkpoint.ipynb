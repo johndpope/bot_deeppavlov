{
 "cells": [
  {
   "cell_type": "code",
   "execution_count": null,
   "metadata": {},
   "outputs": [
    {
     "name": "stderr",
     "output_type": "stream",
     "text": [
      "/home/lsm/anaconda3/envs/ipavlov_env/lib/python3.6/site-packages/h5py/__init__.py:36: FutureWarning: Conversion of the second argument of issubdtype from `float` to `np.floating` is deprecated. In future, it will be treated as `np.float64 == np.dtype(float).type`.\n",
      "  from ._conv import register_converters as _register_converters\n",
      "Using TensorFlow backend.\n",
      "[nltk_data] Downloading package punkt to /home/lsm/nltk_data...\n",
      "[nltk_data]   Package punkt is already up-to-date!\n",
      "[nltk_data] Downloading package stopwords to /home/lsm/nltk_data...\n",
      "[nltk_data]   Package stopwords is already up-to-date!\n",
      "[nltk_data] Downloading package perluniprops to /home/lsm/nltk_data...\n",
      "[nltk_data]   Package perluniprops is already up-to-date!\n",
      "[nltk_data] Downloading package nonbreaking_prefixes to\n",
      "[nltk_data]     /home/lsm/nltk_data...\n",
      "[nltk_data]   Package nonbreaking_prefixes is already up-to-date!\n",
      "2018-06-24 13:31:32.733 DEBUG in 'gensim.models.doc2vec'['doc2vec'] at line 73: Fast version of gensim.models.doc2vec is being used\n",
      "2018-06-24 13:31:32.738 INFO in 'summa.preprocessing.cleaner'['textcleaner'] at line 20: 'pattern' package not found; tag filters are not available for English\n",
      "2018-06-24 13:31:37.816 INFO in 'deeppavlov.download'['download'] at line 142: Downloading...\n",
      "2018-06-24 13:31:37.820 DEBUG in 'urllib3.connectionpool'['connectionpool'] at line 208: Starting new HTTP connection (1): lnsigo.mipt.ru\n",
      "2018-06-24 13:31:37.970 DEBUG in 'urllib3.connectionpool'['connectionpool'] at line 396: http://lnsigo.mipt.ru:80 \"GET /export/deeppavlov_data/ner_rus_v2.tar.gz HTTP/1.1\" 200 3465649\n",
      "2018-06-24 13:31:37.972 INFO in 'deeppavlov.core.data.utils'['utils'] at line 65: Downloading from http://lnsigo.mipt.ru/export/deeppavlov_data/ner_rus_v2.tar.gz to /home/lsm/DeepPavlov/ner_rus_v2.tar.gz\n",
      "100%|██████████| 3.47M/3.47M [00:02<00:00, 1.16MB/s]\n",
      "2018-06-24 13:31:40.974 INFO in 'deeppavlov.core.data.utils'['utils'] at line 149: Extracting /home/lsm/DeepPavlov/ner_rus_v2.tar.gz archive into /home/lsm/DeepPavlov/download\n",
      "2018-06-24 13:31:41.42 DEBUG in 'urllib3.connectionpool'['connectionpool'] at line 208: Starting new HTTP connection (1): lnsigo.mipt.ru\n",
      "2018-06-24 13:31:41.155 DEBUG in 'urllib3.connectionpool'['connectionpool'] at line 396: http://lnsigo.mipt.ru:80 \"GET /export/embeddings/lenta_lower_100.bin HTTP/1.1\" 200 1110088817\n",
      "2018-06-24 13:31:41.307 INFO in 'deeppavlov.core.data.utils'['utils'] at line 65: Downloading from http://lnsigo.mipt.ru/export/embeddings/lenta_lower_100.bin to /home/lsm/DeepPavlov/download/embeddings/lenta_lower_100.bin\n",
      "  3%|▎         | 36.9M/1.11G [01:40<16:31, 1.08MB/s]  "
     ]
    }
   ],
   "source": [
    "from deeppavlov.core.commands.infer import build_model_from_config\n",
    "from deeppavlov.download import deep_download\n",
    "import json\n",
    "PIPELINE_CONFIG_PATH = 'ner_rus.json'\n",
    "with open(PIPELINE_CONFIG_PATH) as f:\n",
    "    config = json.load(f)\n",
    "deep_download(['-c', PIPELINE_CONFIG_PATH])\n",
    "ner_model = build_model_from_config(config)\n"
   ]
  },
  {
   "cell_type": "code",
   "execution_count": null,
   "metadata": {},
   "outputs": [],
   "source": []
  }
 ],
 "metadata": {
  "kernelspec": {
   "display_name": "Python 3",
   "language": "python",
   "name": "python3"
  },
  "language_info": {
   "codemirror_mode": {
    "name": "ipython",
    "version": 3
   },
   "file_extension": ".py",
   "mimetype": "text/x-python",
   "name": "python",
   "nbconvert_exporter": "python",
   "pygments_lexer": "ipython3",
   "version": "3.6.5"
  }
 },
 "nbformat": 4,
 "nbformat_minor": 2
}
